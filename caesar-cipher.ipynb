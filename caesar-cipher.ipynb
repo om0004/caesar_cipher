{
 "cells": [
  {
   "cell_type": "code",
   "execution_count": 4,
   "metadata": {},
   "outputs": [
    {
     "name": "stdout",
     "output_type": "stream",
     "text": [
      "Do you want to encrypt or decrypt:d\n",
      "Enter your message:pb qdph lv mxolxv\n",
      "my name is julius"
     ]
    }
   ],
   "source": [
    "def encrypt():\n",
    "    s=input(\"Enter your message:\").lower()\n",
    "    for x in s:\n",
    "        if x.isspace():\n",
    "            l.append(45)\n",
    "            continue\n",
    "        num=d[x]\n",
    "        if num>23:\n",
    "            num=num-26\n",
    "        l.append(num+3)\n",
    "    for x in l:\n",
    "        if x==45:\n",
    "            print(\"\",end=\" \")\n",
    "            continue\n",
    "        print(d1[x],end=\"\")\n",
    "def decrypt():\n",
    "    s=input(\"Enter your message:\").lower()\n",
    "    for x in s:\n",
    "        if x.isspace():\n",
    "            l.append(45)\n",
    "            continue\n",
    "        num=d[x]\n",
    "        if num<=3:\n",
    "            num=num+26\n",
    "        l.append(num-3)    \n",
    "    for x in l:\n",
    "        if x==45:\n",
    "            print(\"\",end=\" \")\n",
    "            continue\n",
    "        print(d1[x],end=\"\")\n",
    "d={'a':1,'b':2,'c':3,'d':4,'e':5,'f':6,'g':7,'h':8,'i':9,'j':10,'k':11,'l':12,'m':13,'n':14,'o':15,'p':16,'q':17,'r':18,'s':19,'t':20,'u':21,'v':22,'w':23,'x':24,'y':25,'z':26}\n",
    "d1=dict()\n",
    "l=[]\n",
    "for k,v in d.items():\n",
    "    d1[v]=k        \n",
    "ask=input(\"Do you want to encrypt or decrypt:\").lower()\n",
    "if ask.startswith('e'):\n",
    "    encrypt()\n",
    "else:\n",
    "    decrypt()"
   ]
  },
  {
   "cell_type": "code",
   "execution_count": null,
   "metadata": {},
   "outputs": [],
   "source": []
  }
 ],
 "metadata": {
  "kernelspec": {
   "display_name": "Python 3",
   "language": "python",
   "name": "python3"
  },
  "language_info": {
   "codemirror_mode": {
    "name": "ipython",
    "version": 3
   },
   "file_extension": ".py",
   "mimetype": "text/x-python",
   "name": "python",
   "nbconvert_exporter": "python",
   "pygments_lexer": "ipython3",
   "version": "3.9.0"
  }
 },
 "nbformat": 4,
 "nbformat_minor": 4
}
